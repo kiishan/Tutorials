{
 "cells": [
  {
   "cell_type": "markdown",
   "metadata": {},
   "source": [
    "# TIME SERIES ANALYSIS FOR SENSOR DATA\n",
    "\n",
    "## Summary of Data: \n",
    "\n",
    "1. We are attaching a time series data from one the sensor deployed in the field, this is capturing voltage at an electrical line.\n",
    "2. Data is samples at 1 minute interval and for 2 months.\n",
    "3. Here, below are the definition of each data point:\n",
    "    -  voltage >  0 means   good power,\n",
    "    -  Voltage == 0 means  Power failure but UPS giving backup\n",
    "    -  Voltage data missing means UPS is fully discharged \n",
    "    \n",
    "## Problem Statement:\n",
    "\n",
    "#### Summarise the instances of Power Failure on the following grounds:\n",
    "    1. Number & Duration of Power Failures.\n",
    "    2. Number of times & Duration for which UPS did not provide any backup.\n",
    "    3. Number of times & Duration for which UPS provided backup.\n",
    "    4. Any Trends/Patterns in the Power Failure.\n",
    "    5. Compare the UPS performance at 2 sites\n",
    "\n",
    "__Also compare the two sites on the basis of above analysis.__\n",
    "__Try to summarise your observations using some self-explanatory plots.__"
   ]
  },
  {
   "cell_type": "markdown",
   "metadata": {},
   "source": [
    "***\n",
    "## Solution Section\n",
    "\n",
    "\n",
    "### Loading Libraries\n",
    "\n",
    "1. Numpy\n",
    "2. Pandas\n",
    "4. Matplotlib\n",
    "6. OS"
   ]
  },
  {
   "cell_type": "code",
   "execution_count": null,
   "metadata": {},
   "outputs": [],
   "source": [
    "import numpy as np # linear algebra\n",
    "import pandas as pd # data processing, CSV file I/O (e.g. pd.read_csv)\n",
    "import matplotlib.pyplot as plt # visualization library\n",
    "\n",
    "\n",
    "#import os\n",
    "#import warnings            \n",
    "\n",
    "#warnings.filterwarnings(\"ignore\") # if there is a warning after some codes, this will avoid us to see them.\n",
    "#plt.style.use('ggplot') # style of plots. ggplot is one of the most used style.\n",
    "#print(os.listdir(r'C:\\Users\\kiish\\Downloads\\Projects'))"
   ]
  },
  {
   "cell_type": "markdown",
   "metadata": {},
   "source": [
    "### Loading and Describing Data\n",
    "\n",
    "#### voltage_data.csv\n",
    "\n",
    "Loading the time series data from CSV file contining data from the sensor deployed in the field\n",
    "\n",
    "1. capturing voltage at an electrical line.\n",
    "2. Data is samples at 1 minute interval and for 2 months.\n",
    "3. Here, below are the definition of each data point:\n",
    "\n",
    "    - voltage > 0 means good power,\n",
    "    - Voltage == 0 means Power failure but UPS giving backup\n",
    "    - Voltage data missing means UPS is fully discharged\n",
    "    \n",
    "    \n",
    "#### Data Description\n",
    "\n",
    "1. datetime : Data and Timestamp of recorded sensor readings\t\n",
    "2. Site-1   : Sensor readings from Site 1.\n",
    "3. Site-2   : Sensor readings from Site 1.\n"
   ]
  },
  {
   "cell_type": "code",
   "execution_count": null,
   "metadata": {},
   "outputs": [],
   "source": [
    "df = pd.read_csv(r'../dataSet/voltage_data.csv') # Loadin data from CSV\n",
    "df.info()\n",
    "df.head() # taking a glimpse of data"
   ]
  },
  {
   "cell_type": "markdown",
   "metadata": {},
   "source": [
    "__From the above info and Head statement we get that there is 100800 records in datetime column whereas other two sensor data columns are having only 99820 and 99380 records. This means that we have missing data in those columns but according to our problem statement missing records represents scenario where power cut and ups outage both occurs simultaneously.__\n",
    "\n",
    "__so we cannot get rid of those records so we will create numeric dummy variables for this__"
   ]
  },
  {
   "cell_type": "markdown",
   "metadata": {},
   "source": [
    "### Data Cleaning & Preparation\n",
    "\n",
    "For analysis Purpose we will redesign our dataframe to have following fields\n",
    "\n",
    "1. date\n",
    "2. time\n",
    "3. day_of_week\n",
    "4. site_1\n",
    "5. site_2\n",
    "\n",
    "\n",
    "To handel missing data and to make data points comparable we will replace the site values on following criteria\n",
    "\n",
    "1. voltage >  0 means   good power,                        : __Replaced with +1__\n",
    "2. Voltage == 0 means  Power failure but UPS giving backup : __Replaced wiht 0.00001 (for aggregation purpose we are cann't make it zero)__\n",
    "3. Voltage data missing means UPS is fully discharged      : __Replaced with -1__"
   ]
  },
  {
   "cell_type": "code",
   "execution_count": null,
   "metadata": {},
   "outputs": [],
   "source": [
    "df.columns = ['datetime', 'site_1', 'site_2']\n",
    "df = df.fillna(-1)\n",
    "df.loc[(df['site_1'] > 0), 'site_1'] = 1\n",
    "df.loc[(df['site_2'] > 0), 'site_2'] = 1\n",
    "df.loc[(df['site_1'] == 0), 'site_1'] = 0.0001\n",
    "df.loc[(df['site_2'] == 0), 'site_2'] = 0.0001"
   ]
  },
  {
   "cell_type": "code",
   "execution_count": null,
   "metadata": {},
   "outputs": [],
   "source": [
    "df['datetime'] = pd.to_datetime(df['datetime'])\n",
    "df['date'] = [d.date() for d in df['datetime']]\n",
    "df['time'] = [d.time() for d in df['datetime']]\n",
    "df['day_of_week'] = df['datetime'].dt.day_name()\n",
    "df = df[['datetime','date', 'time', 'day_of_week', 'site_1', 'site_2']]"
   ]
  },
  {
   "cell_type": "code",
   "execution_count": null,
   "metadata": {},
   "outputs": [],
   "source": [
    "df.info()\n",
    "df.head()"
   ]
  },
  {
   "cell_type": "markdown",
   "metadata": {},
   "source": [
    "## Data Analysis\n",
    "\n",
    "Let's do an Analysis to understand the data better\n",
    "\n",
    "lets plot a graph for both sides"
   ]
  },
  {
   "cell_type": "code",
   "execution_count": null,
   "metadata": {},
   "outputs": [],
   "source": [
    "site_1_stats = df['site_1'].value_counts()\n",
    "site_1_stats = pd.DataFrame({'Value':site_1_stats.index, 'Count':site_1_stats.values})\n",
    "\n",
    "site_2_stats = df['site_2'].value_counts()\n",
    "site_2_stats = pd.DataFrame({'Value':site_2_stats.index, 'Count':site_2_stats.values})"
   ]
  },
  {
   "cell_type": "code",
   "execution_count": null,
   "metadata": {},
   "outputs": [],
   "source": [
    "site_1_stats.head()"
   ]
  },
  {
   "cell_type": "code",
   "execution_count": null,
   "metadata": {},
   "outputs": [],
   "source": [
    "site_2_stats.head()"
   ]
  },
  {
   "cell_type": "markdown",
   "metadata": {},
   "source": [
    "__From above two code blocks we can identify no. of power failure__\n",
    "\n",
    "1. Number & Duration of Power Failures.\n",
    "2. Number of times & Duration for which UPS did not provide any backup.\n",
    "3. Number of times & Duration for which UPS provided backup."
   ]
  },
  {
   "cell_type": "code",
   "execution_count": null,
   "metadata": {},
   "outputs": [],
   "source": [
    "plt.figure(figsize=(8,8))\n",
    "width = 0.35       \n",
    "plt.bar(site_1_stats.Value, site_1_stats.Count, width, label='Site 1')\n",
    "plt.bar(site_2_stats.Value + width, site_2_stats.Count, width, label='Site 2')\n",
    "\n",
    "plt.ylabel('Count')\n",
    "plt.title('Statistics for Site 1 & 2')\n",
    "\n",
    "plt.xticks(site_1_stats.Value + width / 2, ('Power', 'UPS', 'Power Failure'))\n",
    "plt.legend(loc='best')\n",
    "plt.show()"
   ]
  },
  {
   "cell_type": "code",
   "execution_count": null,
   "metadata": {},
   "outputs": [],
   "source": [
    "plt.figure(figsize=(60,10))\n",
    "plt.plot(df.datetime, df.site_1, label='Site 1')\n",
    "plt.plot(df.datetime, df.site_2, label='Site 2')\n",
    "\n",
    "plt.xlabel('Date Time')\n",
    "plt.ylabel('Voltage Status')\n",
    "plt.title('Plot of Site 1 & Site 2')\n",
    "plt.legend()\n",
    "plt.show()"
   ]
  },
  {
   "cell_type": "markdown",
   "metadata": {},
   "source": [
    "From the above value count statement, now we know\n",
    "\n",
    "__Site 1__\n",
    "\n",
    "1.  1.0000  :  94250 - Minutes Power Supply was there \n",
    "2.  0.0001  :  5570 - Minutes Power Supply was not there, but ups provided backup\n",
    "3. -1.0000  :   980 - Minutes No Power Supply no UPS backup\n",
    "\n",
    "__Site 2__\n",
    "\n",
    "1.  1.0000  : 97795 Minutes Power Supply was there \n",
    "2.  0.0001  :  1585 Minutes Power Supply was not there, but ups provided backup\n",
    "3. -1.0000  :  1420 Minutes No Power Supply no UPS backup\n",
    "\n"
   ]
  },
  {
   "cell_type": "markdown",
   "metadata": {},
   "source": [
    "Value_grp are state change variables for site 1 & 2"
   ]
  },
  {
   "cell_type": "code",
   "execution_count": null,
   "metadata": {},
   "outputs": [],
   "source": [
    "df['value_grp_S1'] = (df['site_1'].diff(1) != 0).astype('int').cumsum()\n",
    "valgrp1 = df.groupby(['value_grp_S1','site_1'])['site_1'].sum()\n",
    "valgrp1 = pd.DataFrame({'Site1Value':valgrp1.index, 'CumSum':valgrp1.values})\n",
    "valgrp1['Datetime'] = df['datetime']\n",
    "valgrp1['Index'],valgrp1['Value'] = zip(*valgrp1.Site1Value)\n",
    "valgrp1 = valgrp1[['Datetime','Index','Value', 'CumSum']]\n",
    "\n",
    "df['value_grp_S2'] = (df['site_2'].diff(1) != 0).astype('int').cumsum()\n",
    "valgrp2 = df.groupby(['value_grp_S2','site_2'])['site_2'].sum()\n",
    "valgrp2 = pd.DataFrame({'Site2Value':valgrp2.index, 'CumSum':valgrp2.values})\n",
    "valgrp2['Datetime'] = df['datetime']\n",
    "valgrp2['Index'],valgrp2['Value'] = zip(*valgrp2.Site2Value)\n",
    "valgrp2 = valgrp2[['Datetime','Index','Value', 'CumSum']]"
   ]
  },
  {
   "cell_type": "code",
   "execution_count": null,
   "metadata": {},
   "outputs": [],
   "source": [
    "df.head()"
   ]
  },
  {
   "cell_type": "code",
   "execution_count": null,
   "metadata": {},
   "outputs": [],
   "source": [
    "valgrp1.info()\n",
    "valgrp1.head()"
   ]
  },
  {
   "cell_type": "code",
   "execution_count": null,
   "metadata": {},
   "outputs": [],
   "source": [
    "valgrp2.info()\n",
    "valgrp2.head()"
   ]
  },
  {
   "cell_type": "markdown",
   "metadata": {},
   "source": [
    "__From Data frame valgrp1 & valgrp2 we can identify the following__\n",
    "\n",
    "1. Number & Duration of Power Failures.\n",
    "2. Number of times & Duration for which UPS did not provide any backup.\n",
    "3. Number of times & Duration for which UPS provided backup.\n",
    "\n",
    "#### Assumptions made\n",
    "\n",
    "    - *number of power failures : total number of events when value was either 0 or NaN: 5570+980 =  \n",
    "    - *Number of times & Duration for which UPS did not provide any backup when value was NaN: 980\n",
    "    - *Number of times & Duration for which UPS provided backup. when value was 0: 5570\n",
    "    "
   ]
  },
  {
   "cell_type": "code",
   "execution_count": null,
   "metadata": {},
   "outputs": [],
   "source": [
    "# Problem solutions at site 1\n",
    "\n",
    "valgrp1_UF = valgrp1.loc[valgrp1['Value'] == -1.0]\n",
    "num_UF_s1 = len(valgrp1_UF.index)# returns no of ups failure\n",
    "sum_UF_s1 = valgrp1_UF['CumSum'].sum()*-1 # returns total duration of ups failure\n",
    "\n",
    "print('Number of time UPS did not provide any backup at site 1: ',num_UF_s1)\n",
    "print('Total duration of UPS did not provide any backup : ', sum_UF_s1)\n",
    "\n",
    "valgrp1_UPS = valgrp1.loc[valgrp1['Value'] == 0.0001]\n",
    "num_UPS_s1 = len(valgrp1_UPS.index)# returns no of ups failure\n",
    "sum_UPS_s1 = valgrp1_UPS['CumSum'].sum()*10000 # returns total duration of ups failure\n",
    "\n",
    "print('Number of time UPS provided backup at site 1: ',num_UPS_s1)\n",
    "print('Total duration of UPS provided backup : ', sum_UPS_s1)\n",
    "\n",
    "num_PF_s1 = num_UF_s1 + num_UPS_s1 # returns no of power failure\n",
    "sum_PF_s1 = sum_UF_s1 + sum_UPS_s1 # returns total duration of power failure\n",
    "\n",
    "print('Number of power failures at site 1: ',num_PF_s1)\n",
    "print('Total duration of power failure: ', sum_PF_s1)\n"
   ]
  },
  {
   "cell_type": "code",
   "execution_count": null,
   "metadata": {},
   "outputs": [],
   "source": [
    "# Problem solutions at site 2\n",
    "\n",
    "valgrp2_UF = valgrp2.loc[valgrp2['Value'] == -1.0]\n",
    "num_UF_s2 = len(valgrp2_UF.index)# returns no of ups failure\n",
    "sum_UF_s2 = valgrp2_UF['CumSum'].sum()*-1 # returns total duration of ups failure\n",
    "\n",
    "print('Number of time UPS did not provide any backup at site 2: ',num_UF_s2)\n",
    "print('Total duration of UPS did not provide any backup : ', sum_UF_s2)\n",
    "\n",
    "valgrp2_UPS = valgrp2.loc[valgrp2['Value'] == 0.0001]\n",
    "num_UPS_s2 = len(valgrp1_UPS.index)# returns no of ups failure\n",
    "sum_UPS_s2 = valgrp2_UPS['CumSum'].sum()*10000 # returns total duration of ups failure\n",
    "\n",
    "print('Number of time UPS provided backup at site 2: ',num_UPS_s2)\n",
    "print('Total duration of UPS provided backup : ', sum_UPS_s2)\n",
    "\n",
    "num_PF_s2 = num_UF_s2 + num_UPS_s2 # returns no of power failure\n",
    "sum_PF_s2 = sum_UF_s2 + sum_UPS_s2 # returns total duration of power failure\n",
    "\n",
    "print('Number of power failures at site 2: ',num_PF_s2)\n",
    "print('Total duration of power failure: ', sum_PF_s2)\n"
   ]
  },
  {
   "cell_type": "code",
   "execution_count": null,
   "metadata": {},
   "outputs": [],
   "source": [
    "plt.figure(figsize=(60,10))\n",
    "plt.plot(valgrp1.Datetime, valgrp1.CumSum, label='Site 1')\n",
    "plt.xlabel('Date Time')\n",
    "plt.ylabel('Duration')\n",
    "plt.title('Plot')\n",
    "plt.legend()\n",
    "plt.show()"
   ]
  },
  {
   "cell_type": "code",
   "execution_count": null,
   "metadata": {},
   "outputs": [],
   "source": [
    "plt.figure(figsize=(60,10))\n",
    "plt.plot(valgrp2.Datetime, valgrp2.CumSum, label='Site 2')\n",
    "plt.xlabel('Date Time')\n",
    "plt.ylabel('Duration')\n",
    "plt.title('Plot')\n",
    "plt.legend()\n",
    "plt.show()"
   ]
  },
  {
   "cell_type": "code",
   "execution_count": null,
   "metadata": {},
   "outputs": [],
   "source": [
    "daygrp1 = df.groupby(['day_of_week','site_1']).size()\n",
    "daygrp1 = pd.DataFrame({'day':daygrp1.index, 'Count':daygrp1.values})\n",
    "daygrp1['Day'],daygrp1['Value'] = zip(*daygrp1.day)\n",
    "daygrp1 = daygrp1[['Day','Value','Count']]\n",
    "daygrp1"
   ]
  },
  {
   "cell_type": "code",
   "execution_count": null,
   "metadata": {},
   "outputs": [],
   "source": [
    "daygrp2 = df.groupby(['day_of_week','site_2']).size()\n",
    "daygrp2 = pd.DataFrame({'day':daygrp2.index, 'Count':daygrp2.values})\n",
    "daygrp2['Day'],daygrp2['Value'] = zip(*daygrp2.day)\n",
    "daygrp2 = daygrp2[['Day','Value','Count']]\n",
    "daygrp2.head()"
   ]
  },
  {
   "cell_type": "code",
   "execution_count": null,
   "metadata": {},
   "outputs": [],
   "source": [
    "mon = daygrp1.loc[daygrp1['Day'] == 'Monday']\n",
    "tue = daygrp1.loc[daygrp1['Day'] == 'Tuesday']\n",
    "wed = daygrp1.loc[daygrp1['Day'] == 'Wednesday']\n",
    "thu = daygrp1.loc[daygrp1['Day'] == 'Thursday']\n",
    "fri = daygrp1.loc[daygrp1['Day'] == 'Friday']\n",
    "sat = daygrp1.loc[daygrp1['Day'] == 'Saturday']\n",
    "sun = daygrp1.loc[daygrp1['Day'] == 'Sunday']\n",
    "\n",
    "day = [mon, tue, wed, thu, fri, sat, sun]\n",
    "\n",
    "plt.figure(figsize=(40,20))\n",
    "\n",
    "for x in day:\n",
    "    ind = x.Day.values[0]\n",
    "    \n",
    "    power = x.loc[x['Value'] == 1.0000].Count.values[0]\n",
    "    ups = x.loc[x['Value'] == 0.0001].Count.values[0]\n",
    "    #powerFail = x.loc[x['Value'] == -1.0000].Count.values[0]\n",
    "\n",
    "\n",
    "    plt.bar(ind, power, width=0.8, label='Power', color='gold', bottom=ups)\n",
    "    plt.bar(ind, ups, width=0.8, label='UPS', color='silver')\n",
    "    #plt.bar(ind, ups, width=0.8, label='UPS', color='red')\n",
    "\n",
    "plt.ylabel(\"Minutes\")\n",
    "plt.xlabel(\"Day\")\n",
    "plt.legend(loc=\"upper right\")\n",
    "plt.title(\"Weekday Wise Analysis\")\n",
    "    \n",
    "\n",
    "plt.show()\n"
   ]
  },
  {
   "cell_type": "code",
   "execution_count": null,
   "metadata": {},
   "outputs": [],
   "source": [
    "mon = daygrp2.loc[daygrp2['Day'] == 'Monday']\n",
    "tue = daygrp2.loc[daygrp2['Day'] == 'Tuesday']\n",
    "wed = daygrp2.loc[daygrp2['Day'] == 'Wednesday']\n",
    "thu = daygrp2.loc[daygrp2['Day'] == 'Thursday']\n",
    "fri = daygrp2.loc[daygrp2['Day'] == 'Friday']\n",
    "sat = daygrp2.loc[daygrp2['Day'] == 'Saturday']\n",
    "sun = daygrp2.loc[daygrp2['Day'] == 'Sunday']\n",
    "\n",
    "day = [mon, tue, wed, thu, fri, sat, sun]\n",
    "\n",
    "plt.figure(figsize=(40,20))\n",
    "\n",
    "for x in day:\n",
    "    ind = x.Day.values[0]\n",
    "    \n",
    "    power = x.loc[x['Value'] == 1.0000].Count.values[0]\n",
    "    ups = x.loc[x['Value'] == 0.0001].Count.values[0]\n",
    "    #powerFail = x.loc[x['Value'] == -1.0000].Count.values[0]\n",
    "\n",
    "\n",
    "    plt.bar(ind, power, width=0.8, label='Power', color='gold', bottom=ups)\n",
    "    plt.bar(ind, ups, width=0.8, label='UPS', color='silver')\n",
    "    #plt.bar(ind, ups, width=0.8, label='UPS', color='red')\n",
    "\n",
    "plt.ylabel(\"Minutes\")\n",
    "plt.xlabel(\"Day\")\n",
    "plt.legend(loc=\"upper right\")\n",
    "plt.title(\"Weekday Wise Analysis\")\n",
    "    \n",
    "\n",
    "plt.show()"
   ]
  },
  {
   "cell_type": "markdown",
   "metadata": {},
   "source": [
    "## Problem Statement:\n",
    "\n",
    "#### Summarise the instances of Power Failure on the following grounds:\n",
    "    1. Number & Duration of Power Failures.\n",
    "    2. Number of times & Duration for which UPS did not provide any backup.\n",
    "    3. Number of times & Duration for which UPS provided backup.\n",
    "    4. Any Trends/Patterns in the Power Failure.\n",
    "    5. Compare the UPS performance at 2 sites\n",
    "\n",
    "__Also compare the two sites on the basis of above analysis.__\n",
    "__Try to summarise your observations using some self-explanatory plots.__\n",
    "\n",
    "\n",
    "Solutions\n",
    "\n",
    "1. Number & Duration of Power Failures.\n",
    "\n",
    "    - Site 1: 181 Times, 6550 Minutes\n",
    "    - Site 2: 211 Times, 3005 Minutes\n",
    "        \n",
    "        \n",
    "2. Number of times & Duration for which UPS did not provide any backup.\n",
    "\n",
    "    - Site 1: 3 Times, 980 Minutes\n",
    "    - Site 2: 33 Times, 1420 Minutes\n",
    "    \n",
    "        \n",
    "3. Number of times & Duration for which UPS provided backup.\n",
    "\n",
    "    - Site 1:178 Times, 5570 Minutes\n",
    "    - Site 2:178 Times, 1585 Minutes\n",
    "        \n",
    "        \n",
    "4. Any Trends/Patterns in the Power Failure.\n",
    "    - site 1: only on fridays complete power failure is seen\n",
    "        \n",
    "        \n",
    "5. Compare the UPS performance at 2 sites\n",
    "    - Site 1 utilizes UPS more efficiently almost 3 times more utilization is seen\n",
    "    \n",
    "\n"
   ]
  },
  {
   "cell_type": "code",
   "execution_count": null,
   "metadata": {},
   "outputs": [],
   "source": []
  }
 ],
 "metadata": {
  "kernelspec": {
   "display_name": "Python 3",
   "language": "python",
   "name": "python3"
  },
  "language_info": {
   "codemirror_mode": {
    "name": "ipython",
    "version": 3
   },
   "file_extension": ".py",
   "mimetype": "text/x-python",
   "name": "python",
   "nbconvert_exporter": "python",
   "pygments_lexer": "ipython3",
   "version": "3.6.6"
  }
 },
 "nbformat": 4,
 "nbformat_minor": 2
}
